{
 "cells": [
  {
   "cell_type": "markdown",
   "metadata": {},
   "source": [
    "Without using any string methods, try to print the following:\n",
    "\n",
    "( 123...n ) as string without spaces, whare n is a given input."
   ]
  },
  {
   "cell_type": "code",
   "execution_count": null,
   "metadata": {},
   "outputs": [],
   "source": [
    "num = int(input(\"Enter number: \"))\n",
    "for i in range(1, num+1):\n",
    "    print(i, end='')\n",
    "    #ahmed alaa "
   ]
  },
  {
   "cell_type": "markdown",
   "metadata": {},
   "source": [
    "Check if element exists in list in Python\n",
    "\n",
    "list = test_list = [1, 6, 3, 5, 3, 4]\n",
    "\n",
    "Input: 3  # Check if 3 exist or not.\n",
    "\n",
    "Output: True"
   ]
  },
  {
   "cell_type": "code",
   "execution_count": null,
   "metadata": {},
   "outputs": [],
   "source": [
    "lst=[ 1, 6, 3, 5, 3, 4 ]\n",
    "\n",
    "i=3\n",
    "\n",
    "if i in lst:\n",
    "    print(\"true\")\n",
    "else:\n",
    "    print(\"false\")\n",
    "    #ahmed alaa"
   ]
  },
  {
   "cell_type": "markdown",
   "metadata": {},
   "source": [
    "Given a list, write a Python program to swap first and last element of the list.\n",
    "\n",
    "Examples: \n",
    "\n",
    "Input : [12, 35, 9, 56, 24]\n",
    "\n",
    "Output : [24, 35, 9, 56, 12]\n",
    "\n",
    "Input : [1, 2, 3]\n",
    "\n",
    "Output : [3, 2, 1]"
   ]
  },
  {
   "cell_type": "code",
   "execution_count": null,
   "metadata": {},
   "outputs": [],
   "source": [
    "list1=[12,35,9,56,24]\n",
    "x=list1[0]\n",
    "list1[0]=list1[4]\n",
    "list1[4]=x\n",
    "print (list1)\n",
    "#ahmed alaa"
   ]
  },
  {
   "cell_type": "markdown",
   "metadata": {},
   "source": [
    "Read a list from user and print it after that rverse the list.\n",
    "\n",
    "Example:\n",
    "\n",
    "Input : list = [4, 5, 6, 7, 8, 9]\n",
    "\n",
    "Output : [9, 8, 7, 6, 5, 4]"
   ]
  },
  {
   "cell_type": "code",
   "execution_count": null,
   "metadata": {},
   "outputs": [],
   "source": [
    "lst = [4,5,6,7,8,9]\n",
    "lst.reverse()\n",
    "print(\"Using reverse() \", lst)\n",
    " \n",
    "print(\"Using reversed() \", list(reversed(lst)))"
   ]
  },
  {
   "cell_type": "markdown",
   "metadata": {},
   "source": [
    "We are given a string and we need to reverse words of a given string\n",
    "\n",
    "Examples:\n",
    "\n",
    "Input : str =\" geeks quiz practice code\"\n",
    "\n",
    "Output : str = code practice quiz geeks "
   ]
  },
  {
   "cell_type": "code",
   "execution_count": null,
   "metadata": {},
   "outputs": [],
   "source": [
    "\n",
    "def check(string) :\n",
    "\n",
    "\tstring = string.lower()\n",
    "\n",
    "\tvowels = set(\"aeiou\")\n",
    "\ts = set({})\n",
    "\tfor char in string :\n",
    "\t\tif char in vowels :\n",
    "\t\t\ts.add(char)\n",
    "\t\telse:\n",
    "\t\t\tpass\n",
    "\tif len(s) == len(vowels) :\n",
    "\t\tprint(\"Accepted\")\n",
    "\telse :\n",
    "\t\tprint(\"Not Accepted\")\n",
    "\n",
    "if __name__ == \"__main__\" :\n",
    "\t\n",
    "\tstring = \"SEEquoiaL\"\n",
    "\n",
    "\t# calling function\n",
    "\tcheck(string)\n"
   ]
  },
  {
   "cell_type": "markdown",
   "metadata": {},
   "source": [
    "Given a string, the task is to check if every vowel is present or not. We consider a vowel to be present if it is present in upper case or lower case. i.e. ‘a’, ‘e’, ‘i’.’o’, ‘u’ or ‘A’, ‘E’, ‘I’, ‘O’, ‘U’ . \n",
    "\n",
    "Examples : \n",
    "\n",
    "Input : geeksforgeeks\n",
    "\n",
    "Output : Not Accepted\n",
    "\n",
    "    All vowels except 'a','i','u' are not present\n",
    "\n",
    "\n",
    "Input : ABeeIghiObhkUul\n",
    "\n",
    "Output : Accepted\n",
    "\n",
    "    All vowels are present"
   ]
  },
  {
   "cell_type": "code",
   "execution_count": null,
   "metadata": {},
   "outputs": [],
   "source": [
    "def check(string):\n",
    "    if len(set(string.lower()).intersection(\"aeiou\")) >= 5:\n",
    "        return ('accepted')\n",
    "    else:\n",
    "        return (\"not accepted\")\n",
    "\n",
    "if name == \"main\":\n",
    "    string = \"geeksforgeeks\"\n",
    "    print(check(string))"
   ]
  },
  {
   "cell_type": "markdown",
   "metadata": {},
   "source": [
    "Factorial of a non-negative integer, is multiplication of all integers smaller than or equal to n. For example factorial of 6 is 6*5*4*3*2*1 which is 720.\n",
    "\n",
    "We are given n to calculate its factorial."
   ]
  },
  {
   "cell_type": "code",
   "execution_count": null,
   "metadata": {},
   "outputs": [],
   "source": [
    "def factorial(n):\n",
    "    return 1 if (n==1 or n==0) else n * factorial(n - 1);\n",
    "num = 5;\n",
    "print(\"Factorial of\",num,\"is\",\n",
    "factorial(num))"
   ]
  },
  {
   "cell_type": "markdown",
   "metadata": {},
   "source": [
    "Given a character, we need to print its ASCII value\n",
    "\n",
    "Examples :\n",
    "\n",
    "Input : a \n",
    "\n",
    "Output : 97\n",
    "\n",
    "Input : D\n",
    "\n",
    "Output : 68\n",
    "\n",
    "    NOTE: search about the ord() method to can solve these problem."
   ]
  },
  {
   "cell_type": "code",
   "execution_count": null,
   "metadata": {},
   "outputs": [],
   "source": [
    "print(\"Enter a String: \", end=\"\")\n",
    "text = input()\n",
    "textlength = len(text)\n",
    "for char in text:\n",
    "\tascii = ord(char)\n",
    "\tprint(char, \"\\t\", ascii)\n"
   ]
  },
  {
   "cell_type": "markdown",
   "metadata": {},
   "source": [
    "Given a positive integer N. The task is to find 12 + 22 + 32 + ….. + N2.\n",
    "\n",
    "Examples:\n",
    "\n",
    "Input : N = 4\n",
    "\n",
    "Output : 30"
   ]
  },
  {
   "cell_type": "code",
   "execution_count": null,
   "metadata": {},
   "outputs": [],
   "source": [
    "def squaresum(n) :\n",
    "    sm = 0\n",
    "    for i in range(1, n+1) :\n",
    "        sm = sm + (i * i)\n",
    "    return sm\n",
    "n = 4\n",
    "print(squaresum(n))"
   ]
  },
  {
   "cell_type": "markdown",
   "metadata": {},
   "source": [
    "Given the participants' score sheet for your University Sports Day, you are required to find the runner-up score. You are given n scores. Store them in a list and find the score of the runner-up.\n",
    "\n",
    "Example:\n",
    "\n",
    "Input:\n",
    "\n",
    "    6\n",
    "    2 4 5 6 1 6\n",
    "\n",
    "Output:\n",
    "\n",
    "    5"
   ]
  },
  {
   "cell_type": "code",
   "execution_count": null,
   "metadata": {},
   "outputs": [],
   "source": [
    "if __name__ == '__main__':\n",
    "    n = int(input())\n",
    "    arr = list(map(int, input().split()))\n",
    "    mx = max(arr)\n",
    "    sc = None\n",
    "\n",
    "    for num in arr:\n",
    "        if num == mx:\n",
    "            pass\n",
    "        elif sc == None:\n",
    "            sc = num\n",
    "        elif num > sc:\n",
    "            sc = num\n",
    "\n",
    "    print(sc)"
   ]
  }
 ],
 "metadata": {
  "kernelspec": {
   "display_name": "Python 3.10.4 64-bit",
   "language": "python",
   "name": "python3"
  },
  "language_info": {
   "codemirror_mode": {
    "name": "ipython",
    "version": 3
   },
   "file_extension": ".py",
   "mimetype": "text/x-python",
   "name": "python",
   "nbconvert_exporter": "python",
   "pygments_lexer": "ipython3",
   "version": "3.10.4"
  },
  "orig_nbformat": 4,
  "vscode": {
   "interpreter": {
    "hash": "e45d8d126239bf8a7e9885e3bff8c6abf09d9a0fa988a93c0a0f2d983359ed62"
   }
  }
 },
 "nbformat": 4,
 "nbformat_minor": 2
}
